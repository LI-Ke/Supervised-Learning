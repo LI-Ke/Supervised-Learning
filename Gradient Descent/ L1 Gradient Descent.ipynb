{
 "cells": [
  {
   "cell_type": "markdown",
   "metadata": {},
   "source": [
    "# Descent de Gradient L1"
   ]
  },
  {
   "cell_type": "code",
   "execution_count": 1,
   "metadata": {
    "collapsed": true
   },
   "outputs": [],
   "source": [
    "import sklearn\n",
    "import matplotlib.pyplot as plt\n",
    "#import seaborn as sns\n",
    "import numpy as np\n",
    "import random\n",
    "import copy\n",
    "\n",
    "from sklearn.datasets import fetch_mldata\n",
    "from sklearn import cross_validation\n",
    "from sklearn import base\n",
    "from sklearn.linear_model import Lasso\n",
    "from sklearn.linear_model import ElasticNet\n",
    "\n",
    "import matplotlib.pyplot as plt"
   ]
  },
  {
   "cell_type": "code",
   "execution_count": 2,
   "metadata": {
    "collapsed": true
   },
   "outputs": [],
   "source": [
    "class GradientL1 (base.BaseEstimator):\n",
    "    \n",
    "    def __init__ (self, theta, eps, lamb):\n",
    "        self.theta = theta\n",
    "        self.eps = eps\n",
    "        self.lamb = lamb\n",
    "        self.nb_caract = len(theta)\n",
    "\n",
    "    def fit (self, X, y, nb_it=1000, printevery=-1):\n",
    "        l = len(X)\n",
    "        XTrans = X.transpose()\n",
    "        \n",
    "        for it in xrange (0, nb_it):\n",
    "            hypothese = np.dot(X, self.theta)\n",
    "            loss = hypothese - y\n",
    "            cout = (1/l) * np.sum(loss ** 2) + (self.lamb*np.linalg.norm(self.theta))\n",
    "            gradient = np.dot(XTrans, (np.dot(self.theta, XTrans) - y))\n",
    "            \n",
    "            if it%(nb_it/100) == 0:\n",
    "                thetaP = self.theta - self.eps * (np.sign(theta)*self.lamb)\n",
    "            else:\n",
    "                thetaP = self.theta - self.eps * gradient\n",
    "            \n",
    "            for j in xrange (0, len(self.theta)) :\n",
    "                if theta[j]*thetaP[j] < 0 :\n",
    "                    theta[j] = 0\n",
    "                else :\n",
    "                    theta[j] = thetaP[j]\n",
    "            \n",
    "            \n",
    "            if printevery != -1 and (it%printevery) == 0:\n",
    "                    print(\"Iteration %d | Cost: %f | Score: %.03f\" % (it, cout, self.score(X,y)))\n",
    "                    caract = self.caracteristiques()\n",
    "                    print(\"%d features used\"%(caract))\n",
    "                    self.nb_caract=caract\n",
    "            elif it%1000 == 0:\n",
    "                caract = self.caracteristiques()\n",
    "                self.nb_caract=caract\n",
    "            \n",
    "                \n",
    "    def predict(self,x):\n",
    "        predictions=[]\n",
    "        for i in x:\n",
    "            predictions.append(1 if np.dot(i,self.theta)>0 else -1)\n",
    "        return predictions\n",
    "    \n",
    "    def score(self,X,y):\n",
    "        res=0.0\n",
    "        predictions = self.predict(X)\n",
    "        for idx,i in enumerate(predictions):\n",
    "            res += 1 if i==y[idx] else 0\n",
    "        return res/len(X)\n",
    "    \n",
    "    def caracteristiques(self):\n",
    "        caract = 0\n",
    "        for idx in self.theta:\n",
    "            if idx == 0:\n",
    "                caract += 1\n",
    "        return len(self.theta) - caract"
   ]
  },
  {
   "cell_type": "markdown",
   "metadata": {},
   "source": [
    "## Création du dataset :"
   ]
  },
  {
   "cell_type": "code",
   "execution_count": 3,
   "metadata": {
    "collapsed": false
   },
   "outputs": [
    {
     "name": "stdout",
     "output_type": "stream",
     "text": [
      "[ 1.6619974   1.6205392  -0.51658314  1.99932983 -1.08897851 -0.59387486\n",
      "  0.46369891  1.32358563  0.38298105  1.88776517  0.68383447 -0.26924797\n",
      " -0.70762748  0.37542279  0.33142512  0.23672878  0.84687254 -0.59006249\n",
      " -1.20835093 -0.932551   -0.34669583 -0.13800838 -0.47074708 -0.80733248\n",
      " -0.8294201  -0.25426574  0.53250422  1.78855985 -1.35892732 -0.19908546\n",
      "  1.67919308 -0.5288767  -0.82879895 -0.6665436  -2.04269786 -0.04856159\n",
      "  2.06344251  1.21316469  1.78855985 -0.62449759 -0.55836935 -0.77732676\n",
      "  1.10605268  1.0761612   0.28306007 -1.08897851  0.49741309  0.03862831\n",
      "  1.38836096  0.84687254]\n",
      "[[ 1.6619974   1.6205392  -0.51658314  1.99932983 -1.08897851 -0.59387486\n",
      "   0.46369891  1.32358563  0.38298105  1.88776517  0.68383447 -0.26924797\n",
      "  -0.70762748  0.37542279  0.33142512  0.23672878  0.84687254 -0.59006249\n",
      "  -1.20835093 -0.932551   -0.34669583 -0.13800838 -0.47074708 -0.80733248\n",
      "  -0.8294201  -0.25426574  0.53250422  1.78855985 -1.35892732 -0.19908546\n",
      "   1.67919308 -0.5288767  -0.82879895 -0.6665436  -2.04269786 -0.04856159\n",
      "   2.06344251  1.21316469  1.78855985 -0.62449759 -0.55836935 -0.77732676\n",
      "   1.10605268  1.0761612   0.28306007 -1.08897851  0.49741309  0.03862831\n",
      "   1.38836096  0.84687254]\n",
      " [-0.42774158  1.56805644  0.66121636  0.5782713   0.37168241  0.43299514\n",
      "  -0.95968656 -0.34394949  0.70189357  0.40268094 -1.01466726  0.45908526\n",
      "   0.44122481  0.25464926 -1.39945864  1.14660742 -1.00404224  0.80173249\n",
      "   0.58622514 -0.23496104 -1.26543077  1.14918972 -0.70931982 -1.39754592\n",
      "  -0.27500175  0.41614687 -0.28179211 -4.03625887 -0.13714088  1.92118815\n",
      "  -0.21715429  1.73125665 -0.13551543 -1.88116453 -0.01318001  1.37589832\n",
      "   0.27396705  0.48852634 -4.03625887 -0.15902889  0.33447251  0.62416373\n",
      "  -1.93806411  0.75488819  0.52090012  0.37168241 -1.02956707  1.00541216\n",
      "  -3.06113344 -1.00404224]]\n",
      "[-1  1]\n"
     ]
    }
   ],
   "source": [
    "ds = sklearn.datasets.make_classification(n_samples=20000,\n",
    "                                          n_features=50,    # 30 features\n",
    "                                          n_informative=5,  # only 5 informatives ones\n",
    "                                          n_redundant=0,\n",
    "                                          n_repeated=3,     # and 3 duplicate\n",
    "                                          n_classes=2,\n",
    "                                          n_clusters_per_class=1,\n",
    "                                          weights=None,\n",
    "                                          flip_y=0.03,\n",
    "                                          class_sep=0.8,\n",
    "                                          hypercube=True,\n",
    "                                          shift=0.0,\n",
    "                                          scale=1.0,\n",
    "                                          shuffle=True,\n",
    "                                          random_state=None)\n",
    "X= ds[0]\n",
    "y= ds[1]\n",
    "\n",
    "\n",
    "# labels: [0,1] -> [-1,1]\n",
    "for idx,i in enumerate(y):\n",
    "    if (i==0):\n",
    "        y[idx]=-1\n",
    "print X[0]        \n",
    "print X[:2]\n",
    "print y[:2]"
   ]
  },
  {
   "cell_type": "markdown",
   "metadata": {},
   "source": [
    "## Test du modèle (λ=0) :"
   ]
  },
  {
   "cell_type": "code",
   "execution_count": 15,
   "metadata": {
    "collapsed": false
   },
   "outputs": [
    {
     "name": "stdout",
     "output_type": "stream",
     "text": [
      "Iteration 0 | Cost: 0.000000 | Score: 0.398\n",
      "50 features used\n",
      "Iteration 500 | Cost: 0.000000 | Score: 0.850\n",
      "50 features used\n",
      "Iteration 1000 | Cost: 0.000000 | Score: 0.850\n",
      "50 features used\n",
      "Iteration 1500 | Cost: 0.000000 | Score: 0.850\n",
      "50 features used\n",
      "Iteration 2000 | Cost: 0.000000 | Score: 0.850\n",
      "50 features used\n",
      "Iteration 2500 | Cost: 0.000000 | Score: 0.850\n",
      "50 features used\n",
      "Iteration 3000 | Cost: 0.000000 | Score: 0.850\n",
      "50 features used\n",
      "Iteration 3500 | Cost: 0.000000 | Score: 0.850\n",
      "50 features used\n",
      "Iteration 4000 | Cost: 0.000000 | Score: 0.850\n",
      "50 features used\n",
      "Iteration 4500 | Cost: 0.000000 | Score: 0.850\n",
      "50 features used\n",
      "Cross validation scores: [ 0.853    0.84225  0.84525  0.8495   0.861  ], mean: 0.85\n"
     ]
    }
   ],
   "source": [
    "theta = copy.deepcopy(X[0])\n",
    "eps=0.000005\n",
    "\n",
    "lamb=0\n",
    "nbIterations = 5000\n",
    "gd = GradientL1(theta,eps,lamb)\n",
    "gd.fit(X,y,nbIterations,printevery=nbIterations/10)\n",
    "scores = cross_validation.cross_val_score(gd, X, y, cv=5,scoring=\"accuracy\")\n",
    "print(\"Cross validation scores: %s, mean: %.02f\"%(scores,np.mean(scores)))"
   ]
  },
  {
   "cell_type": "markdown",
   "metadata": {},
   "source": [
    "## Test du modèle (λ=50) :"
   ]
  },
  {
   "cell_type": "code",
   "execution_count": 16,
   "metadata": {
    "collapsed": false
   },
   "outputs": [
    {
     "name": "stdout",
     "output_type": "stream",
     "text": [
      "Iteration 0 | Cost: 478.219611 | Score: 0.398\n",
      "50 features used\n",
      "Iteration 500 | Cost: 24.228580 | Score: 0.850\n",
      "47 features used\n",
      "Iteration 1000 | Cost: 24.228580 | Score: 0.850\n",
      "47 features used\n",
      "Iteration 1500 | Cost: 24.228580 | Score: 0.850\n",
      "47 features used\n",
      "Iteration 2000 | Cost: 24.228580 | Score: 0.850\n",
      "47 features used\n",
      "Iteration 2500 | Cost: 24.228580 | Score: 0.850\n",
      "47 features used\n",
      "Iteration 3000 | Cost: 24.228580 | Score: 0.850\n",
      "47 features used\n",
      "Iteration 3500 | Cost: 24.228580 | Score: 0.850\n",
      "47 features used\n",
      "Iteration 4000 | Cost: 24.228580 | Score: 0.850\n",
      "47 features used\n",
      "Iteration 4500 | Cost: 24.228580 | Score: 0.850\n",
      "47 features used\n",
      "Cross validation scores: [ 0.853    0.842    0.84525  0.8495   0.861  ], mean: 0.85\n"
     ]
    }
   ],
   "source": [
    "theta = copy.deepcopy(X[0])\n",
    "eps=0.000005\n",
    "\n",
    "lamb=50\n",
    "nbIterations = 5000\n",
    "gd = GradientL1(theta,eps,lamb)\n",
    "gd.fit(X,y,nbIterations,printevery=nbIterations/10)\n",
    "scores = cross_validation.cross_val_score(gd, X, y, cv=5,scoring=\"accuracy\")\n",
    "print(\"Cross validation scores: %s, mean: %.02f\"%(scores,np.mean(scores)))"
   ]
  },
  {
   "cell_type": "code",
   "execution_count": 17,
   "metadata": {
    "collapsed": false
   },
   "outputs": [
    {
     "name": "stdout",
     "output_type": "stream",
     "text": [
      "Lamda: 0     | Cross val mean: 0.850 | Features: 50\n",
      "Lamda: 1000  | Cross val mean: 0.850 | Features: 22\n",
      "Lamda: 2000  | Cross val mean: 0.850 | Features: 8\n",
      "Lamda: 3000  | Cross val mean: 0.850 | Features: 6\n",
      "Lamda: 4000  | Cross val mean: 0.849 | Features: 6\n",
      "Lamda: 5000  | Cross val mean: 0.850 | Features: 6\n",
      "Lamda: 6000  | Cross val mean: 0.850 | Features: 6\n",
      "Lamda: 7000  | Cross val mean: 0.850 | Features: 6\n",
      "Lamda: 8000  | Cross val mean: 0.850 | Features: 6\n",
      "Lamda: 9000  | Cross val mean: 0.850 | Features: 6\n"
     ]
    }
   ],
   "source": [
    "lambdas = []\n",
    "cross_sc = []\n",
    "used_features = []\n",
    "\n",
    "for lamb in np.arange(0,10000,1000):\n",
    "    theta = copy.deepcopy((X[1]+X[10]))\n",
    "    gd = GradientL1(theta,eps,lamb)\n",
    "    nbIterations = 4000\n",
    "    gd.fit(X,y,nbIterations)\n",
    "    scores = cross_validation.cross_val_score(gd, X, y, cv=5,scoring=\"accuracy\")\n",
    "    print(\"Lamda: %s | Cross val mean: %.03f | Features: %d\"%(str(lamb).ljust(5),np.mean(scores),gd.nb_caract))\n",
    "    #print(\"Lamda: %.02f | Cross val mean: %.02f | Features: %d\"%(lamb,gd.score(X,y),gd.used_features))\n",
    "    cross_sc.append(np.mean(scores))\n",
    "    lambdas.append(lamb)\n",
    "    used_features.append(gd.nb_caract)"
   ]
  },
  {
   "cell_type": "markdown",
   "metadata": {},
   "source": [
    "## Courbe de performance :"
   ]
  },
  {
   "cell_type": "code",
   "execution_count": 18,
   "metadata": {
    "collapsed": false
   },
   "outputs": [
    {
     "data": {
      "image/png": "[encoded data removed]",
      "text/plain": [
       "<matplotlib.figure.Figure at 0xd5f1c18>"
      ]
     },
     "metadata": {},
     "output_type": "display_data"
    }
   ],
   "source": [
    "figure, score = plt.subplots()\n",
    "features = score.twinx()\n",
    "\n",
    "\n",
    "score.plot(lambdas, cross_sc, '#6DC433')\n",
    "features.plot(lambdas, used_features, '#5AC8ED')\n",
    "\n",
    "score.set_xlabel('Parametre lambda')\n",
    "score.set_ylabel('Score Cross Validation', color='#6DC433')\n",
    "features.set_ylabel('Nb features used', color='#5AC8ED')\n",
    "score.yaxis.grid(True)\n",
    "features.grid(True)\n",
    "plt.show()"
   ]
  },
  {
   "cell_type": "code",
   "execution_count": null,
   "metadata": {
    "collapsed": true
   },
   "outputs": [],
   "source": []
  }
 ],
 "metadata": {
  "kernelspec": {
   "display_name": "Python 2",
   "language": "python",
   "name": "python2"
  },
  "language_info": {
   "codemirror_mode": {
    "name": "ipython",
    "version": 2
   },
   "file_extension": ".py",
   "mimetype": "text/x-python",
   "name": "python",
   "nbconvert_exporter": "python",
   "pygments_lexer": "ipython2",
   "version": "2.7.9"
  }
 },
 "nbformat": 4,
 "nbformat_minor": 1
}
