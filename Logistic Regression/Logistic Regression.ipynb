{
 "cells": [
  {
   "cell_type": "markdown",
   "metadata": {},
   "source": [
    "# Logistic Regression"
   ]
  },
  {
   "cell_type": "code",
   "execution_count": 1,
   "metadata": {
    "collapsed": true
   },
   "outputs": [],
   "source": [
    "import math\n",
    "import numpy as np\n",
    "from numpy import random\n",
    "from matplotlib import cm \n",
    "import matplotlib.pyplot as plt\n",
    "from mpl_toolkits.mplot3d import Axes3D\n",
    "from arftools import *\n",
    "%matplotlib inline"
   ]
  },
  {
   "cell_type": "markdown",
   "metadata": {},
   "source": [
    "## Construct a function structure"
   ]
  },
  {
   "cell_type": "code",
   "execution_count": 2,
   "metadata": {
    "collapsed": true
   },
   "outputs": [],
   "source": [
    "from collections import namedtuple \n",
    "Fonction = namedtuple ( \"Fonction\",[\"f\",\"grad\",\"dim\"])   #declaration  de  la  structure\n",
    "def f_id (x):return x                             #definition  de  l  afonction\n",
    "def f_idgrad (x): return 1                       #definition  du  gradient\n",
    "identite = Fonction ( f_id , f_idgrad ,1)           #construire  la  structure\n",
    "identite.f(1),identite.grad(1),identite.dim #u t i l i s e r  la  structure\n",
    "def v2m(x): \n",
    "    return x.reshape((1,x.size)) if len(x.shape)==1 else x"
   ]
  },
  {
   "cell_type": "markdown",
   "metadata": {},
   "source": [
    "## Create a function 'optimize' which optimizes a continous function"
   ]
  },
  {
   "cell_type": "code",
   "execution_count": 3,
   "metadata": {
    "collapsed": true
   },
   "outputs": [],
   "source": [
    "def optimize(fonc,eps=1e-4,maxiter=100,xinit=None):\n",
    "    if xinit == None:\n",
    "        xinit= np.random.rand(100)\n",
    "    x = xinit\n",
    "    log_x    = np.array(x)\n",
    "    log_f    = np.array(fonc.f(x))\n",
    "    log_grad = np.array(fonc.grad(x))\n",
    "    cpt = 0\n",
    "    \n",
    "    while cpt < maxiter :\n",
    "        x = x-eps*fonc.grad(x)\n",
    "        log_x = np.vstack((log_x,x))\n",
    "        log_f = np.vstack((log_f,fonc.f(x)))\n",
    "        log_grad = np.vstack((log_grad,fonc.grad(x)))\n",
    "        cpt += 1 \n",
    "    return (log_x, log_f, log_grad) \n",
    "      "
   ]
  },
  {
   "cell_type": "markdown",
   "metadata": {},
   "source": [
    "## Logistic Regression Classification"
   ]
  },
  {
   "cell_type": "markdown",
   "metadata": {},
   "source": [
    "### Sigmoid Function"
   ]
  },
  {
   "cell_type": "code",
   "execution_count": 4,
   "metadata": {
    "collapsed": true
   },
   "outputs": [],
   "source": [
    "def sigmoid(w,x):\n",
    "    return 1./(1.+np.exp(x.dot(w)))"
   ]
  },
  {
   "cell_type": "markdown",
   "metadata": {},
   "source": [
    "### Gradient of Sigmoid Function"
   ]
  },
  {
   "cell_type": "code",
   "execution_count": 5,
   "metadata": {
    "collapsed": true
   },
   "outputs": [],
   "source": [
    "def grad_sigmoid(w,x,y):\n",
    "    return (sigmoid(w,x)-y).dot(x)"
   ]
  },
  {
   "cell_type": "markdown",
   "metadata": {},
   "source": [
    "### Logistic Regression Classifier"
   ]
  },
  {
   "cell_type": "code",
   "execution_count": 7,
   "metadata": {
    "collapsed": true
   },
   "outputs": [],
   "source": [
    "class LogisticRegression(Classifier):\n",
    "    def __init__(self,eps=1e-4,max_iter=5000,dim=2):\n",
    "        self.dim = dim\n",
    "        \n",
    "    def fit(self,data,y):\n",
    "        self.data = data\n",
    "        self.y    = y\n",
    "        self.fonc_logistique = Fonction (self.f_regression_logistique, self.f_regression_logistique_grad, 1)\n",
    "        log_x, log_f, log_grad = optimize(self.fonc_logistique,xinit = np.array(random.random(self.dim)*(10)-5))      \n",
    "        self.x = log_x[-1]\n",
    "       \n",
    "    def predict(self,testX):\n",
    "        X = v2m(testX)\n",
    "        return -np.sign(sigmoid(self.x,X) - 0.5)\n",
    "    \n",
    "    def f_regression_logistique(self,w):\n",
    "        return sum(sigmoid(w,self.data))\n",
    "    \n",
    "    def f_regression_logistique_grad(self,w):\n",
    "        return grad_sigmoid(w,self.data,self.y)"
   ]
  },
  {
   "cell_type": "markdown",
   "metadata": {},
   "source": [
    "## Experiment"
   ]
  },
  {
   "cell_type": "code",
   "execution_count": 8,
   "metadata": {
    "collapsed": false
   },
   "outputs": [
    {
     "data": {
      "image/png": "[encoded data removed]",
      "text/plain": [
       "<matplotlib.figure.Figure at 0x7f4efc158950>"
      ]
     },
     "metadata": {},
     "output_type": "display_data"
    }
   ],
   "source": [
    "dataX,dataY = gen_arti()\n",
    "testX ,testY  = gen_arti()\n",
    "\n",
    "lr = LogisticRegression()\n",
    "lr.fit(dataX,dataY)\n",
    "plot_frontiere(testX,lr.predict,step=100)\n",
    "plot_data(testX,testY)"
   ]
  }
 ],
 "metadata": {
  "kernelspec": {
   "display_name": "Python 2",
   "language": "python",
   "name": "python2"
  },
  "language_info": {
   "codemirror_mode": {
    "name": "ipython",
    "version": 2
   },
   "file_extension": ".py",
   "mimetype": "text/x-python",
   "name": "python",
   "nbconvert_exporter": "python",
   "pygments_lexer": "ipython2",
   "version": "2.7.9"
  }
 },
 "nbformat": 4,
 "nbformat_minor": 0
}
