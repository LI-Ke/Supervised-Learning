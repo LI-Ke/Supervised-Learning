{
 "cells": [
  {
   "cell_type": "markdown",
   "metadata": {},
   "source": [
    "# Decision Tree"
   ]
  },
  {
   "cell_type": "code",
   "execution_count": 19,
   "metadata": {
    "collapsed": true
   },
   "outputs": [],
   "source": [
    "import numpy as np\n",
    "from collections import Counter\n",
    "import pydot  #pour l'affichage graphique d'arbres\n",
    "import cPickle\n",
    "import matplotlib.pyplot as plt\n",
    "%matplotlib inline  "
   ]
  },
  {
   "cell_type": "code",
   "execution_count": 2,
   "metadata": {
    "collapsed": true
   },
   "outputs": [],
   "source": [
    "###############################\n",
    "# Fonctions auxiliaires\n",
    "###############################\n",
    "\n",
    "def p_log_p(freq):\n",
    "    \"\"\" fonction pour calculer \\sum p_i log(p_i) \"\"\"\n",
    "    return np.nan_to_num(np.sum(freq*np.log2(freq)))\n",
    "    \"\"\"dafuck is not a number here ??? \"\"\" \n",
    "def entropy(y):\n",
    "    \"\"\" calcul de l'entropie d'un ensemble\"\"\"\n",
    "    ylen = float(y.size)\n",
    "    if ylen <= 1:\n",
    "        return 0    \n",
    "    #freq est un tableau qui contient les probabilités de chaque dimension du vecteur\n",
    "    freq = np.array(Counter(y).values())/ylen\n",
    "    return -p_log_p(freq)\n",
    "\n",
    "\"\"\"pour un noeud on calcule l'entropie avec les fils de ce \n",
    "noeud, y_list sont les fils \"\"\"  \n",
    "def entropy_cond(y_list):\n",
    "    h, total = 0.,0.\n",
    "    for y in y_list:\n",
    "        h += len(y)*entropy(y)\n",
    "        total += len(y)\n",
    "    return h/total"
   ]
  },
  {
   "cell_type": "code",
   "execution_count": 3,
   "metadata": {
    "collapsed": true
   },
   "outputs": [],
   "source": [
    "###############################\n",
    "# Classes\n",
    "###############################\n",
    "class Classifier(object):\n",
    "    \"\"\" Classe generique d'un classifieur\n",
    "        Dispose de 3 méthodes :\n",
    "            fit pour apprendre\n",
    "            predict pour predire\n",
    "            score pour evaluer la precision\n",
    "    \"\"\"\n",
    "    def fit(self,data,y):\n",
    "        raise NotImplementedError(\"fit non  implemente\")\n",
    "    def predict(self,data):\n",
    "        raise NotImplementedError(\"predict non implemente\")\n",
    "    def score(self,data,y):\n",
    "        return (self.predict(data)==y).mean()"
   ]
  },
  {
   "cell_type": "code",
   "execution_count": 4,
   "metadata": {
    "collapsed": true
   },
   "outputs": [],
   "source": [
    "class Split(object):\n",
    "    \"\"\" Permet de coder un split pour une variable continue\n",
    "    \"\"\"\n",
    "    def __init__(self,idvar=None,threshold=None,gain=None):\n",
    "        \"\"\"\n",
    "        :param idvar: numero de la variable de split\n",
    "        :param threshold: seuil\n",
    "        :param gain: gain d'information du split\n",
    "        :return:\n",
    "        \"\"\"\n",
    "        self.idvar=idvar\n",
    "        self.threshold=threshold\n",
    "        self.gain=gain\n",
    "\n",
    "    def predict(self,data):\n",
    "        \"\"\" Prediction pour une matrice d'exemples, -1 si <= threshold, +1 sinon\n",
    "        :param x: matrice d'exemples\n",
    "        :return: vecteur des labels\n",
    "        \"\"\"\n",
    "        if len(data.shape)==1:\n",
    "            data=data.reshape((1,data.shape[0]))\n",
    "        return [-1 if data[i,self.idvar]<=self.threshold else 1 for i in range(data.shape[0])]\n",
    "\n",
    "    @staticmethod\n",
    "    def best_gain(x,y):\n",
    "        \"\"\"  calcul le meilleur seuil pour la colonne x (1-dimension) et les labels y\n",
    "        :param x: vecteur 1d des donnees\n",
    "        ;param y: vecteur des labels\n",
    "        :return:\n",
    "        \"\"\"\n",
    "        ylen = float(y.size)\n",
    "        idx_sorted = np.argsort(x)\n",
    "        h=entropy(y)\n",
    "        xlast=x[idx_sorted[0]]\n",
    "        split_val=x[idx_sorted[0]]\n",
    "        hmin = h\n",
    "        for i in range(y.size):\n",
    "            if x[idx_sorted[i]]!=xlast:\n",
    "                htmp = entropy_cond([y[idx_sorted[:i]], y[idx_sorted[i:]]])\n",
    "                if htmp<hmin:\n",
    "                    hmin=htmp\n",
    "                    split_val=(xlast+x[idx_sorted[i]])/2.\n",
    "            xlast=x[idx_sorted[i]]\n",
    "        return (h-hmin/ylen),split_val\n",
    "\n",
    "    @staticmethod\n",
    "    def find_best_split(data,y):\n",
    "        if len(data.shape)==1:\n",
    "            data = data.reshape((1,data.shape[0]))\n",
    "        hlist = [[Split.best_gain(data[:,i],y),i] for i in range(data.shape[1])]\n",
    "        (h,threshold),idx= max(hlist)\n",
    "        return Split(idx,threshold,h)\n",
    "\n",
    "    def __str__(self):\n",
    "        return \"var %s, thresh %f (gain %f)\" %(self.idvar,self.threshold, self.gain)"
   ]
  },
  {
   "cell_type": "code",
   "execution_count": 5,
   "metadata": {
    "collapsed": true
   },
   "outputs": [],
   "source": [
    "class Node(Classifier):\n",
    "    \"\"\" Noeud d'un arbre\n",
    "    \"\"\"\n",
    "    def __init__(self,split=None,parent=None,left=None,right=None,leaf=True,depth=-1,label=None,**kwargs):\n",
    "        \"\"\"\n",
    "        :param split:  split du noeud\n",
    "        :param parent: noeud parent, None si root\n",
    "        :param left: fils gauche\n",
    "        :param right: fils droit\n",
    "        :param leaf: boolean vrai si feuille\n",
    "        :param depth: profondeur\n",
    "        :param label: label preponderant\n",
    "        :return:\n",
    "        \"\"\"\n",
    "        self.split, self.parent, self.left, self.right, self.leaf, self.label, self.depth = \\\n",
    "                                            split, parent, left, right, leaf, label, depth\n",
    "        self.info = dict(kwargs)\n",
    "\n",
    "    def predict(self,data):\n",
    "        if len(data.shape)==1:\n",
    "            data=data.reshape((1,data.shape[0]))\n",
    "        if self.leaf:\n",
    "            return [self.label]*data.shape[0]\n",
    "        return [self.left.predict(data[i,:])[0] if res<0 else self.right.predict(data[i,:])[0]\n",
    "                for i, res in enumerate(self.split.predict(data))]\n",
    "\n",
    "    def fit(self, data, y):\n",
    "        counts=Counter(y)\n",
    "        self.split=Split.find_best_split(data, y)\n",
    "        self.label = counts.most_common()[0][0]\n",
    "\n",
    "    def __str__(self):\n",
    "        if self.leaf:\n",
    "            return \"Leaf : %s\" % (self.label,)\n",
    "        return \"Node : %s (%s)\" % (self.split,self.info)"
   ]
  },
  {
   "cell_type": "code",
   "execution_count": 22,
   "metadata": {
    "collapsed": true
   },
   "outputs": [],
   "source": [
    "class DecisionTree(Classifier):\n",
    "    \"\"\" Arbre de decision\n",
    "    \"\"\"\n",
    "\n",
    "    def __init__(self,max_depth=None,min_samples_split=2):\n",
    "        \"\"\"\n",
    "        :param max_depth: profondeur max\n",
    "        :param min_samples_split:  nombre d'exemples minimal pour pouvoir spliter le noeud\n",
    "        :return:\n",
    "        \"\"\"\n",
    "        self.max_depth, self.min_samples_split = max_depth, min_samples_split\n",
    "        self.root = None\n",
    "\n",
    "    def fit(self,data,y):\n",
    "        \"\"\" apprentissage de l'arbre de maniere iterative\n",
    "        on apprend un noeud, puis on cree les deux enfants de ce noeud, que l'on ajoute a la pile des noeuds\n",
    "        a traiter par la suite (nodes_to_treat), ainsi que les index des exemples associes (dic_idx)\n",
    "        \"\"\"\n",
    "        self.root = Node(depth=0)\n",
    "        nodes_to_treat = [self.root]\n",
    "        dic_idx = dict({self.root : range(len(y))})\n",
    "        while len(nodes_to_treat)>0:\n",
    "            # recuperation du noeud courant\n",
    "            curnode = nodes_to_treat.pop()\n",
    "            #recuperation de la liste des indices des exemples associes, x[idx_train,:] contient l'ensemble des\n",
    "            #exemples a traiter\n",
    "            idx_train = dic_idx.pop(curnode)\n",
    "            # infos complementaires sur le nombre d'exemples en apprentissage par label\n",
    "            for lab,clab in Counter(y[idx_train]).items():\n",
    "                curnode.info[lab]=clab\n",
    "            curnode.fit(data[idx_train,:],y[idx_train])\n",
    "\n",
    "            # recupere les predictions pour partager entre fils droit et gauche les exemples\n",
    "            pred = curnode.split.predict(data[idx_train,:])\n",
    "            l_idx = [ idx_train[i] for i in range(len(idx_train)) if pred[i]<0 ]\n",
    "            r_idx = list(set(idx_train).difference(l_idx))\n",
    "\n",
    "            #Condition d'arrets\n",
    "            if entropy(y[idx_train])==0 or curnode.depth >= self.max_depth or \\\n",
    "                    len(l_idx) < self.min_samples_split or len(r_idx) < self.min_samples_split:\n",
    "                curnode.leaf=True\n",
    "                continue\n",
    "            #Creation des deux enfants\n",
    "            curnode.left = Node(parent=curnode,depth=curnode.depth+1)\n",
    "            curnode.right = Node(parent=curnode,depth=curnode.depth+1)\n",
    "            curnode.leaf = False\n",
    "            #On enregistre les indices correspondant aux deux noeuds\n",
    "            dic_idx[curnode.left]=l_idx\n",
    "            dic_idx[curnode.right]=r_idx\n",
    "            #On ajoute les deux enfants a la liste des noeuds a traiter\n",
    "            nodes_to_treat = [curnode.left,curnode.right]+nodes_to_treat\n",
    "\n",
    "    def predict(self,data):\n",
    "        return self.root.predict(data)\n",
    "\n",
    "    def __str__(self):\n",
    "        s=\"\"\n",
    "        nodes=[self.root]\n",
    "        while len(nodes)>0:\n",
    "            curnode=nodes.pop()\n",
    "            if not curnode.leaf:\n",
    "                s+= \"\\t\"*curnode.depth + \"var %d :  <=|> %f \\n\"  %(curnode.split.idvar,curnode.split.threshold)\n",
    "                nodes+=[curnode.left,curnode.right]\n",
    "            else:\n",
    "                s+= \"\\t\"*curnode.depth + \"class : %s\\n\" %(curnode.label,)\n",
    "        return s\n",
    "\n",
    "    def to_dot(self,dic_var=None):\n",
    "        s=\"digraph Tree {\"\n",
    "        cpt=0\n",
    "        nodes = [(self.root,cpt)]\n",
    "        while len(nodes)>0:\n",
    "            curnode,idx = nodes.pop()\n",
    "            labinfo = \",\".join([\"%s: %s\" % (lab,slab) for lab,slab in curnode.info.items()])\n",
    "            if not curnode.leaf:\n",
    "                s+=\"%d [label=\\\"%s <= %f\\n IG=%f\\n \" %(idx,curnode.split.idvar \\\n",
    "                    if not dic_var else dic_var[curnode.split.idvar],curnode.split.threshold,curnode.split.gain)\n",
    "                s+= \" %s \\n \\\",shape=\\\"box\\\" ];\\n\"  % (labinfo,)\n",
    "                lidx = cpt +1\n",
    "                ridx = cpt +2\n",
    "                s+= \"%d -> %d; %d -> %d;\\n\" % (idx,lidx,idx,ridx)\n",
    "                cpt+=2\n",
    "                nodes += [(curnode.left,lidx),(curnode.right,ridx)]\n",
    "            else:\n",
    "                s+= \"%d [label=\\\"label=%s\\n %s \\\"];\\n\" %(idx,curnode.label,labinfo)\n",
    "        return s+\"}\"\n",
    "\n",
    "    def to_pdf(self,filename,dic_var=None):\n",
    "        pydot.graph_from_dot_data(self.to_dot(dic_var)).write_pdf(filename)\n"
   ]
  },
  {
   "cell_type": "code",
   "execution_count": 7,
   "metadata": {
    "collapsed": true
   },
   "outputs": [],
   "source": [
    "\"\"\" \n",
    "    data : tableau (films ,features), id2titles : dictionnaire  id ->\n",
    "    titre film , fields : id  feature  -> nom\n",
    "\"\"\"\n",
    "\n",
    "\"\"\"id2titles= identifiants numeriques, \"\"\"\n",
    "[data , id2titles , fields]=cPickle.load(file(\"imdb_extrait.pkl\"))\n",
    "# la  derniere  colonne  est le vote\n",
    "# colonne 33 = note \n",
    "datax=data[:,:32]\n",
    "datay=np.array([1 if x[33]>6.5 else -1 for x in data])"
   ]
  },
  {
   "cell_type": "code",
   "execution_count": 8,
   "metadata": {
    "collapsed": true
   },
   "outputs": [],
   "source": [
    "\"\"\"datax = attributs sauf la note(label)\"\"\"\n",
    "def entropie_attributs(datax):\n",
    "    entro_att = []\n",
    "    for j in range(32):\n",
    "        entro_att.append(entropy(datax[:,j]))\n",
    "    \n",
    "    return entro_att"
   ]
  },
  {
   "cell_type": "code",
   "execution_count": 9,
   "metadata": {
    "collapsed": false
   },
   "outputs": [
    {
     "name": "stdout",
     "output_type": "stream",
     "text": [
      " l'entropie  pour chaque attribut est: \n",
      "[0.56497683727455095, 0.72566201171310984, 0.75409468439050931, 0.26340380422197152, 0.1926285852674641, 0.94878054432465964, 0.26532686924303639, 0.53470135396321838, 0.040466328209344704, -0.0, -0.0, -0.0, 0.91047585246190077, 0.13310901662996316, 0.49425468209811785, 0.0078617369862958395, -0.0, 0.99991768338879861, 0.81032652362072333, 0.058438060605145864, 0.17702726334400468, 0.22865199105519707, 0.45026771320199777, 0.6915486835207777, 0.51449144629444865, -0.0, 0.19699814392010093, 0.30611790946760919, 6.2595536466159079, 0.2013306211270578, 5.445273694115901, 7.3099543096102986]\n"
     ]
    }
   ],
   "source": [
    "entro_att = entropie_attributs(datax)\n",
    "print \" l'entropie  pour chaque attribut est: \"\n",
    "print entro_att"
   ]
  },
  {
   "cell_type": "code",
   "execution_count": 10,
   "metadata": {
    "collapsed": true
   },
   "outputs": [],
   "source": [
    "def entropie_conditionelle(datax,datay):\n",
    "    filmClasse1 = []\n",
    "    filmClasse2 = []\n",
    "    h1,h2,total = 0.,0.,0.\n",
    "    for i in range(len(datax)):\n",
    "        if datay[i] == 1:\n",
    "            filmClasse1.append(datax[i])\n",
    "            h1 += 1\n",
    "        else:\n",
    "            filmClasse2.append(datax[i])\n",
    "            h2 += 1\n",
    "        total += 1\n",
    "    fc1 = np.vstack(filmClasse1)\n",
    "    fc2 = np.vstack(filmClasse2)\n",
    "    entro_att1 = entropie_attributs(fc1)\n",
    "    entro_att2 = entropie_attributs(fc2)\n",
    "    entropie_con = []\n",
    "    for i in range(32):\n",
    "        entropie_con.append((h1*entro_att1[i] + h2*entro_att2[i])/total)\n",
    "    return entropie_con"
   ]
  },
  {
   "cell_type": "code",
   "execution_count": 11,
   "metadata": {
    "collapsed": false
   },
   "outputs": [
    {
     "name": "stdout",
     "output_type": "stream",
     "text": [
      "\n",
      "l'entropie conditionnelle du vote binarise par rapport a l'attribut est: \n",
      "[0.55901436130809123, 0.72499279852927057, 0.7540918637247791, 0.26116743989647695, 0.19261186957530763, 0.93277938360084556, 0.25622695080186869, 0.51200772736662303, 0.036889528536906455, -0.0, -0.0, -0.0, 0.89902399391109633, 0.13107563937186639, 0.49412819987139917, 0.0073265570848683294, -0.0, 0.93925564833853581, 0.79388848151310953, 0.057182279638527976, 0.17456725571692763, 0.2150140648982273, 0.44838615981212071, 0.69127676003908511, 0.51220890501373184, -0.0, 0.1969965315043794, 0.28503315478992108, 6.1595622905099594, 0.18057232181748142, 5.3768790461211999, 7.1350564070605254]\n"
     ]
    }
   ],
   "source": [
    "entropie_con = entropie_conditionelle(datax,datay)\n",
    "print \"\\nl'entropie conditionnelle du vote binarise par rapport a l'attribut est: \"\n",
    "print entropie_con"
   ]
  },
  {
   "cell_type": "code",
   "execution_count": 12,
   "metadata": {
    "collapsed": true
   },
   "outputs": [],
   "source": [
    "def difference_arr_con(entro_att, entropie_con):\n",
    "    diff = []\n",
    "    for i in range(32):\n",
    "        diff.append(entro_att[i]-entropie_con[i])\n",
    "    return diff"
   ]
  },
  {
   "cell_type": "code",
   "execution_count": 13,
   "metadata": {
    "collapsed": false
   },
   "outputs": [
    {
     "name": "stdout",
     "output_type": "stream",
     "text": [
      "\n",
      "difference entre ces 2 valeurs pour chaque attribut est: \n",
      "[0.0059624759664597127, 0.00066921318383927897, 2.8206657302076721e-06, 0.0022363643254945664, 1.6715692156471507e-05, 0.016001160723814079, 0.0090999184411676981, 0.022693626596595351, 0.0035767996724382495, 0.0, 0.0, 0.0, 0.011451858550804439, 0.0020333772580967691, 0.0001264822267186827, 0.0005351799014275101, 0.0, 0.060662035050262797, 0.016438042107613793, 0.0012557809666178879, 0.0024600076270770432, 0.013637926156969765, 0.0018815533898770553, 0.00027192348169258196, 0.00228254128071681, 0.0, 1.612415721524707e-06, 0.021084754677688111, 0.099991356105948448, 0.020758299309576372, 0.068394647994701074, 0.17489790254977322]\n"
     ]
    }
   ],
   "source": [
    "difference = difference_arr_con(entro_att, entropie_con)\n",
    "print \"\\ndifference entre ces 2 valeurs pour chaque attribut est: \"\n",
    "print difference"
   ]
  },
  {
   "cell_type": "code",
   "execution_count": 23,
   "metadata": {
    "collapsed": false
   },
   "outputs": [
    {
     "name": "stdout",
     "output_type": "stream",
     "text": [
      "\n",
      "le score est: 0.736429038587\n"
     ]
    }
   ],
   "source": [
    "dt = DecisionTree()\n",
    "dt.max_depth = 5\n",
    "#on fixe la  taille  de l'arbre a 5\n",
    "dt.fit(datax ,datay)\n",
    "dt.predict(datax[:5,:])\n",
    "print \"\\nle score est: \" + str(dt.score(datax ,datay))\n",
    "dt.to_pdf(\"./doc/test_tree_6.pdf\",fields)# dessine l'arbre  dans un  fichier pdf "
   ]
  },
  {
   "cell_type": "code",
   "execution_count": 17,
   "metadata": {
    "collapsed": true
   },
   "outputs": [],
   "source": [
    "def plot_scores(arange,repeat,xTrain,yTrain):\n",
    "    scores = []\n",
    "    for depth in arange:\n",
    "        #print \"depth = \" + str(depth)\n",
    "        s = []\n",
    "        for i in range(repeat):\n",
    "            #print i\n",
    "            dt = DecisionTree(max_depth=depth)\n",
    "            dt.fit(xTrain,yTrain)\n",
    "            dt.predict(datax[:5,:])\n",
    "            s.append(dt.score(xTrain,yTrain))\n",
    "        scores.append(np.mean(s))\n",
    "\n",
    "    fig = plt.plot(range(2,10),scores,'b-')\n",
    "    plt.xlabel(\"Depth of Decision Tree\")\n",
    "    plt.ylabel(\"Score\")\n",
    "    plt.show()"
   ]
  },
  {
   "cell_type": "code",
   "execution_count": 20,
   "metadata": {
    "collapsed": false
   },
   "outputs": [
    {
     "data": {
      "image/png": "[encoded data removed]",
      "text/plain": [
       "<matplotlib.figure.Figure at 0x7f4ac1a99a10>"
      ]
     },
     "metadata": {},
     "output_type": "display_data"
    }
   ],
   "source": [
    "plot_scores(range(2,10),5,datax,datay)"
   ]
  },
  {
   "cell_type": "code",
   "execution_count": null,
   "metadata": {
    "collapsed": true
   },
   "outputs": [],
   "source": []
  }
 ],
 "metadata": {
  "kernelspec": {
   "display_name": "Python 2",
   "language": "python",
   "name": "python2"
  },
  "language_info": {
   "codemirror_mode": {
    "name": "ipython",
    "version": 2
   },
   "file_extension": ".py",
   "mimetype": "text/x-python",
   "name": "python",
   "nbconvert_exporter": "python",
   "pygments_lexer": "ipython2",
   "version": "2.7.9"
  }
 },
 "nbformat": 4,
 "nbformat_minor": 0
}
